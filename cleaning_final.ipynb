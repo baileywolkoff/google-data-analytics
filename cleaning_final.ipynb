{
 "cells": [
  {
   "cell_type": "markdown",
   "metadata": {},
   "source": [
    "# Cleaning Cyclistic Bike-Share Data\n",
    "This notebook has the purpose of loading, concatenating, and cleaning the data as a part of the Google Data Analytics Capstone project (Case Study 1). The result will be a clean and usable single file for analysis."
   ]
  },
  {
   "cell_type": "markdown",
   "metadata": {},
   "source": [
    "### Analysis Task\n",
    "As a Junior Analyst at the fictitious company *Cyclistic*, I have been tasked with dsicovering the differences between \"Casual Riders\" and \"Annual Members\". This is with the goal in mind of converting casual riders to annual members, as they generate more revenue. These findings will be explored in a separate notebook focused on analysis - where the analysis will be done on the output file of this notebook. These goals should be kept in mind during the cleaning process."
   ]
  },
  {
   "cell_type": "markdown",
   "metadata": {},
   "source": [
    "### Data Source\n",
    "\n",
    "The historical data used for my analysis can be found [here](https://divvy-tripdata.s3.amazonaws.com/index.html). It is an archive of the company's transactions, found in zip files, from the year 2013 until the present. Some files are organized by year, quarter, or month - so it must be noted and organized in analysis accordingly. For the purpose of this assignment, I have taken the previous years data (July, 2020 - June, 2021). There are 12 .csv files within the zip folders - one for each month - that must be concated together for analysis. \n",
    "\n",
    "This is real-world public data that was made available by *Motivate International Inc.* under this [license](https://www.divvybikes.com/data-license-agreement)\n",
    "\n",
    "**Note:** Data-privacy issues prohibit the use of personally identifiable information. Therefore it is impossible to connect pass purchase to credit card numbers, for the purpose of determining if the riders live within the Cyclistic service area, or if they have purchased multiple single passes. This may slightly skew data (as it will be unknown if a single person has purchased multiple day passes where they may be more inclined to buy the annual pass), but should not affect analysis too much, as there is such a large data set that we are working with, this number of affected riders will be insignifcant to final analysis. "
   ]
  },
  {
   "cell_type": "markdown",
   "metadata": {},
   "source": [
    "### Data Cleaning Tasks\n",
    "Here is a list of all the completed data cleaning and manipulation tasks completed below:\n",
    "- Concat files into one\n",
    "- drop station ID columns (2)\n",
    "- remove 209 duplicates (from `ride_id`)\n",
    "- create columns for trip duration\n",
    "- create column for trip duration in minutes\n",
    "- remove entries with zero or negative trip duration\n",
    "- create column for the weekday that trip starts\n",
    "- convert `member_casual` and `weekday` columns to 'category' data type.\n",
    "- Drop entries missing `end_lat` and/or `end_lng` values.\n",
    "- Replace missing station names with 'Unknown'"
   ]
  },
  {
   "cell_type": "code",
   "execution_count": 1,
   "metadata": {},
   "outputs": [],
   "source": [
    "# Import Libraries\n",
    "import pandas as pd\n",
    "import numpy as np\n",
    "import os"
   ]
  },
  {
   "cell_type": "code",
   "execution_count": 2,
   "metadata": {},
   "outputs": [],
   "source": [
    "# pandas environment\n",
    "pd.options.display.float_format = '{:,.2f}'.format #Set to two decimal places"
   ]
  },
  {
   "cell_type": "code",
   "execution_count": 3,
   "metadata": {},
   "outputs": [],
   "source": [
    "# Load first and last file for quick check\n",
    "df_first = pd.read_csv('data/raw/202007-divvy-tripdata.csv')\n",
    "df_last = pd.read_csv('data/raw/202106-divvy-tripdata.csv')"
   ]
  },
  {
   "cell_type": "code",
   "execution_count": 4,
   "metadata": {},
   "outputs": [
    {
     "data": {
      "text/html": [
       "<div>\n",
       "<style scoped>\n",
       "    .dataframe tbody tr th:only-of-type {\n",
       "        vertical-align: middle;\n",
       "    }\n",
       "\n",
       "    .dataframe tbody tr th {\n",
       "        vertical-align: top;\n",
       "    }\n",
       "\n",
       "    .dataframe thead th {\n",
       "        text-align: right;\n",
       "    }\n",
       "</style>\n",
       "<table border=\"1\" class=\"dataframe\">\n",
       "  <thead>\n",
       "    <tr style=\"text-align: right;\">\n",
       "      <th></th>\n",
       "      <th>ride_id</th>\n",
       "      <th>rideable_type</th>\n",
       "      <th>started_at</th>\n",
       "      <th>ended_at</th>\n",
       "      <th>start_station_name</th>\n",
       "      <th>start_station_id</th>\n",
       "      <th>end_station_name</th>\n",
       "      <th>end_station_id</th>\n",
       "      <th>start_lat</th>\n",
       "      <th>start_lng</th>\n",
       "      <th>end_lat</th>\n",
       "      <th>end_lng</th>\n",
       "      <th>member_casual</th>\n",
       "    </tr>\n",
       "  </thead>\n",
       "  <tbody>\n",
       "    <tr>\n",
       "      <th>0</th>\n",
       "      <td>762198876D69004D</td>\n",
       "      <td>docked_bike</td>\n",
       "      <td>2020-07-09 15:22:02</td>\n",
       "      <td>2020-07-09 15:25:52</td>\n",
       "      <td>Ritchie Ct &amp; Banks St</td>\n",
       "      <td>180.00</td>\n",
       "      <td>Wells St &amp; Evergreen Ave</td>\n",
       "      <td>291.00</td>\n",
       "      <td>41.91</td>\n",
       "      <td>-87.63</td>\n",
       "      <td>41.91</td>\n",
       "      <td>-87.63</td>\n",
       "      <td>member</td>\n",
       "    </tr>\n",
       "    <tr>\n",
       "      <th>1</th>\n",
       "      <td>BEC9C9FBA0D4CF1B</td>\n",
       "      <td>docked_bike</td>\n",
       "      <td>2020-07-24 23:56:30</td>\n",
       "      <td>2020-07-25 00:20:17</td>\n",
       "      <td>Halsted St &amp; Roscoe St</td>\n",
       "      <td>299.00</td>\n",
       "      <td>Broadway &amp; Ridge Ave</td>\n",
       "      <td>461.00</td>\n",
       "      <td>41.94</td>\n",
       "      <td>-87.65</td>\n",
       "      <td>41.98</td>\n",
       "      <td>-87.66</td>\n",
       "      <td>member</td>\n",
       "    </tr>\n",
       "    <tr>\n",
       "      <th>2</th>\n",
       "      <td>D2FD8EA432C77EC1</td>\n",
       "      <td>docked_bike</td>\n",
       "      <td>2020-07-08 19:49:07</td>\n",
       "      <td>2020-07-08 19:56:22</td>\n",
       "      <td>Lake Shore Dr &amp; Diversey Pkwy</td>\n",
       "      <td>329.00</td>\n",
       "      <td>Clark St &amp; Wellington Ave</td>\n",
       "      <td>156.00</td>\n",
       "      <td>41.93</td>\n",
       "      <td>-87.64</td>\n",
       "      <td>41.94</td>\n",
       "      <td>-87.65</td>\n",
       "      <td>casual</td>\n",
       "    </tr>\n",
       "    <tr>\n",
       "      <th>3</th>\n",
       "      <td>54AE594E20B35881</td>\n",
       "      <td>docked_bike</td>\n",
       "      <td>2020-07-17 19:06:42</td>\n",
       "      <td>2020-07-17 19:27:38</td>\n",
       "      <td>LaSalle St &amp; Illinois St</td>\n",
       "      <td>181.00</td>\n",
       "      <td>Clark St &amp; Armitage Ave</td>\n",
       "      <td>94.00</td>\n",
       "      <td>41.89</td>\n",
       "      <td>-87.63</td>\n",
       "      <td>41.92</td>\n",
       "      <td>-87.64</td>\n",
       "      <td>casual</td>\n",
       "    </tr>\n",
       "    <tr>\n",
       "      <th>4</th>\n",
       "      <td>54025FDC7440B56F</td>\n",
       "      <td>docked_bike</td>\n",
       "      <td>2020-07-04 10:39:57</td>\n",
       "      <td>2020-07-04 10:45:05</td>\n",
       "      <td>Lake Shore Dr &amp; North Blvd</td>\n",
       "      <td>268.00</td>\n",
       "      <td>Clark St &amp; Schiller St</td>\n",
       "      <td>301.00</td>\n",
       "      <td>41.91</td>\n",
       "      <td>-87.63</td>\n",
       "      <td>41.91</td>\n",
       "      <td>-87.63</td>\n",
       "      <td>member</td>\n",
       "    </tr>\n",
       "  </tbody>\n",
       "</table>\n",
       "</div>"
      ],
      "text/plain": [
       "            ride_id rideable_type           started_at             ended_at  \\\n",
       "0  762198876D69004D   docked_bike  2020-07-09 15:22:02  2020-07-09 15:25:52   \n",
       "1  BEC9C9FBA0D4CF1B   docked_bike  2020-07-24 23:56:30  2020-07-25 00:20:17   \n",
       "2  D2FD8EA432C77EC1   docked_bike  2020-07-08 19:49:07  2020-07-08 19:56:22   \n",
       "3  54AE594E20B35881   docked_bike  2020-07-17 19:06:42  2020-07-17 19:27:38   \n",
       "4  54025FDC7440B56F   docked_bike  2020-07-04 10:39:57  2020-07-04 10:45:05   \n",
       "\n",
       "              start_station_name  start_station_id           end_station_name  \\\n",
       "0          Ritchie Ct & Banks St            180.00   Wells St & Evergreen Ave   \n",
       "1         Halsted St & Roscoe St            299.00       Broadway & Ridge Ave   \n",
       "2  Lake Shore Dr & Diversey Pkwy            329.00  Clark St & Wellington Ave   \n",
       "3       LaSalle St & Illinois St            181.00    Clark St & Armitage Ave   \n",
       "4     Lake Shore Dr & North Blvd            268.00     Clark St & Schiller St   \n",
       "\n",
       "   end_station_id  start_lat  start_lng  end_lat  end_lng member_casual  \n",
       "0          291.00      41.91     -87.63    41.91   -87.63        member  \n",
       "1          461.00      41.94     -87.65    41.98   -87.66        member  \n",
       "2          156.00      41.93     -87.64    41.94   -87.65        casual  \n",
       "3           94.00      41.89     -87.63    41.92   -87.64        casual  \n",
       "4          301.00      41.91     -87.63    41.91   -87.63        member  "
      ]
     },
     "execution_count": 4,
     "metadata": {},
     "output_type": "execute_result"
    }
   ],
   "source": [
    "# Look at first five entries of first file\n",
    "df_first.head()"
   ]
  },
  {
   "cell_type": "code",
   "execution_count": 5,
   "metadata": {},
   "outputs": [
    {
     "data": {
      "text/html": [
       "<div>\n",
       "<style scoped>\n",
       "    .dataframe tbody tr th:only-of-type {\n",
       "        vertical-align: middle;\n",
       "    }\n",
       "\n",
       "    .dataframe tbody tr th {\n",
       "        vertical-align: top;\n",
       "    }\n",
       "\n",
       "    .dataframe thead th {\n",
       "        text-align: right;\n",
       "    }\n",
       "</style>\n",
       "<table border=\"1\" class=\"dataframe\">\n",
       "  <thead>\n",
       "    <tr style=\"text-align: right;\">\n",
       "      <th></th>\n",
       "      <th>ride_id</th>\n",
       "      <th>rideable_type</th>\n",
       "      <th>started_at</th>\n",
       "      <th>ended_at</th>\n",
       "      <th>start_station_name</th>\n",
       "      <th>start_station_id</th>\n",
       "      <th>end_station_name</th>\n",
       "      <th>end_station_id</th>\n",
       "      <th>start_lat</th>\n",
       "      <th>start_lng</th>\n",
       "      <th>end_lat</th>\n",
       "      <th>end_lng</th>\n",
       "      <th>member_casual</th>\n",
       "    </tr>\n",
       "  </thead>\n",
       "  <tbody>\n",
       "    <tr>\n",
       "      <th>729590</th>\n",
       "      <td>CB282292CCFCE74F</td>\n",
       "      <td>electric_bike</td>\n",
       "      <td>2021-06-14 00:17:31</td>\n",
       "      <td>2021-06-14 00:56:46</td>\n",
       "      <td>Wells St &amp; Polk St</td>\n",
       "      <td>SL-011</td>\n",
       "      <td>NaN</td>\n",
       "      <td>NaN</td>\n",
       "      <td>41.87</td>\n",
       "      <td>-87.63</td>\n",
       "      <td>41.88</td>\n",
       "      <td>-87.62</td>\n",
       "      <td>casual</td>\n",
       "    </tr>\n",
       "    <tr>\n",
       "      <th>729591</th>\n",
       "      <td>47BD346FAFB9BE6D</td>\n",
       "      <td>classic_bike</td>\n",
       "      <td>2021-06-30 17:35:10</td>\n",
       "      <td>2021-06-30 17:43:20</td>\n",
       "      <td>Clark St &amp; Chicago Ave</td>\n",
       "      <td>13303</td>\n",
       "      <td>Kingsbury St &amp; Kinzie St</td>\n",
       "      <td>KA1503000043</td>\n",
       "      <td>41.90</td>\n",
       "      <td>-87.63</td>\n",
       "      <td>41.89</td>\n",
       "      <td>-87.64</td>\n",
       "      <td>member</td>\n",
       "    </tr>\n",
       "    <tr>\n",
       "      <th>729592</th>\n",
       "      <td>52467C23D17C6AFE</td>\n",
       "      <td>classic_bike</td>\n",
       "      <td>2021-06-13 19:24:30</td>\n",
       "      <td>2021-06-13 19:34:11</td>\n",
       "      <td>Indiana Ave &amp; 26th St</td>\n",
       "      <td>TA1307000005</td>\n",
       "      <td>State St &amp; 19th St</td>\n",
       "      <td>SL-013</td>\n",
       "      <td>41.85</td>\n",
       "      <td>-87.62</td>\n",
       "      <td>41.86</td>\n",
       "      <td>-87.63</td>\n",
       "      <td>member</td>\n",
       "    </tr>\n",
       "    <tr>\n",
       "      <th>729593</th>\n",
       "      <td>7DF6D74420D7D9E6</td>\n",
       "      <td>electric_bike</td>\n",
       "      <td>2021-06-08 15:44:28</td>\n",
       "      <td>2021-06-08 16:15:01</td>\n",
       "      <td>Clark St &amp; Chicago Ave</td>\n",
       "      <td>13303</td>\n",
       "      <td>NaN</td>\n",
       "      <td>NaN</td>\n",
       "      <td>41.90</td>\n",
       "      <td>-87.63</td>\n",
       "      <td>41.94</td>\n",
       "      <td>-87.71</td>\n",
       "      <td>member</td>\n",
       "    </tr>\n",
       "    <tr>\n",
       "      <th>729594</th>\n",
       "      <td>0C01F8BA99E512E5</td>\n",
       "      <td>electric_bike</td>\n",
       "      <td>2021-06-03 16:18:38</td>\n",
       "      <td>2021-06-03 16:47:49</td>\n",
       "      <td>Clark St &amp; Chicago Ave</td>\n",
       "      <td>13303</td>\n",
       "      <td>NaN</td>\n",
       "      <td>NaN</td>\n",
       "      <td>41.90</td>\n",
       "      <td>-87.63</td>\n",
       "      <td>41.94</td>\n",
       "      <td>-87.71</td>\n",
       "      <td>member</td>\n",
       "    </tr>\n",
       "  </tbody>\n",
       "</table>\n",
       "</div>"
      ],
      "text/plain": [
       "                 ride_id  rideable_type           started_at  \\\n",
       "729590  CB282292CCFCE74F  electric_bike  2021-06-14 00:17:31   \n",
       "729591  47BD346FAFB9BE6D   classic_bike  2021-06-30 17:35:10   \n",
       "729592  52467C23D17C6AFE   classic_bike  2021-06-13 19:24:30   \n",
       "729593  7DF6D74420D7D9E6  electric_bike  2021-06-08 15:44:28   \n",
       "729594  0C01F8BA99E512E5  electric_bike  2021-06-03 16:18:38   \n",
       "\n",
       "                   ended_at      start_station_name start_station_id  \\\n",
       "729590  2021-06-14 00:56:46      Wells St & Polk St           SL-011   \n",
       "729591  2021-06-30 17:43:20  Clark St & Chicago Ave            13303   \n",
       "729592  2021-06-13 19:34:11   Indiana Ave & 26th St     TA1307000005   \n",
       "729593  2021-06-08 16:15:01  Clark St & Chicago Ave            13303   \n",
       "729594  2021-06-03 16:47:49  Clark St & Chicago Ave            13303   \n",
       "\n",
       "                end_station_name end_station_id  start_lat  start_lng  \\\n",
       "729590                       NaN            NaN      41.87     -87.63   \n",
       "729591  Kingsbury St & Kinzie St   KA1503000043      41.90     -87.63   \n",
       "729592        State St & 19th St         SL-013      41.85     -87.62   \n",
       "729593                       NaN            NaN      41.90     -87.63   \n",
       "729594                       NaN            NaN      41.90     -87.63   \n",
       "\n",
       "        end_lat  end_lng member_casual  \n",
       "729590    41.88   -87.62        casual  \n",
       "729591    41.89   -87.64        member  \n",
       "729592    41.86   -87.63        member  \n",
       "729593    41.94   -87.71        member  \n",
       "729594    41.94   -87.71        member  "
      ]
     },
     "execution_count": 5,
     "metadata": {},
     "output_type": "execute_result"
    }
   ],
   "source": [
    "# Look at last five entries of last file\n",
    "df_last.tail()"
   ]
  },
  {
   "cell_type": "code",
   "execution_count": 6,
   "metadata": {},
   "outputs": [
    {
     "data": {
      "text/plain": [
       "array([ True,  True,  True,  True,  True,  True,  True,  True,  True,\n",
       "        True,  True,  True,  True])"
      ]
     },
     "execution_count": 6,
     "metadata": {},
     "output_type": "execute_result"
    }
   ],
   "source": [
    "# Compare column headers\n",
    "df_first.columns == df_last.columns"
   ]
  },
  {
   "cell_type": "code",
   "execution_count": 7,
   "metadata": {},
   "outputs": [
    {
     "data": {
      "text/plain": [
       "ride_id                True\n",
       "rideable_type          True\n",
       "started_at             True\n",
       "ended_at               True\n",
       "start_station_name     True\n",
       "start_station_id      False\n",
       "end_station_name       True\n",
       "end_station_id        False\n",
       "start_lat              True\n",
       "start_lng              True\n",
       "end_lat                True\n",
       "end_lng                True\n",
       "member_casual          True\n",
       "dtype: bool"
      ]
     },
     "execution_count": 7,
     "metadata": {},
     "output_type": "execute_result"
    }
   ],
   "source": [
    "# Compare Data Types \n",
    "df_first.dtypes == df_last.dtypes"
   ]
  },
  {
   "cell_type": "markdown",
   "metadata": {},
   "source": [
    "Notice that the `start_station_id` and `end_station_id` datatypes do not match. This is also seen in the 5 entries as each - it appears that at some point the company changed how they ID their stations. Seeing as this information is irrelevant to our analysis, we will drop these columns."
   ]
  },
  {
   "cell_type": "markdown",
   "metadata": {},
   "source": [
    "#### Concatenation\n",
    "In this section, the 12 files will be concatenated into one. Each file will drop the station id columns, will check for matching headers, and checked for matching data types."
   ]
  },
  {
   "cell_type": "code",
   "execution_count": 8,
   "metadata": {},
   "outputs": [
    {
     "name": "stdout",
     "output_type": "stream",
     "text": [
      "202007-divvy-tripdata.csv has 551480 rows.\n",
      "Column Headers Match!\n",
      "Data Types Match!\n",
      "202008-divvy-tripdata.csv has 622361 rows.\n",
      "Column Headers Match!\n",
      "Data Types Match!\n",
      "202009-divvy-tripdata.csv has 532958 rows.\n",
      "Column Headers Match!\n",
      "Data Types Match!\n",
      "202010-divvy-tripdata.csv has 388653 rows.\n",
      "Column Headers Match!\n",
      "Data Types Match!\n",
      "202011-divvy-tripdata.csv has 259716 rows.\n",
      "Column Headers Match!\n",
      "Data Types Match!\n",
      "202012-divvy-tripdata.csv has 131573 rows.\n",
      "Column Headers Match!\n",
      "Data Types Match!\n",
      "202101-divvy-tripdata.csv has 96834 rows.\n",
      "Column Headers Match!\n",
      "Data Types Match!\n",
      "202102-divvy-tripdata.csv has 49622 rows.\n",
      "Column Headers Match!\n",
      "Data Types Match!\n",
      "202103-divvy-tripdata.csv has 228496 rows.\n",
      "Column Headers Match!\n",
      "Data Types Match!\n",
      "202104-divvy-tripdata.csv has 337230 rows.\n",
      "Column Headers Match!\n",
      "Data Types Match!\n",
      "202105-divvy-tripdata.csv has 531633 rows.\n",
      "Column Headers Match!\n",
      "Data Types Match!\n",
      "202106-divvy-tripdata.csv has 729595 rows.\n",
      "Column Headers Match!\n",
      "Data Types Match!\n",
      "All files concatenated into one DataFrame with 4460151 rows.\n"
     ]
    }
   ],
   "source": [
    "directory = 'data/raw'\n",
    "df_all = pd.DataFrame() #empty DataFrame to populate\n",
    "\n",
    "# Iterate through each file\n",
    "for filename in os.listdir(directory):\n",
    "    if filename.endswith('.csv'): #only want the CSV files\n",
    "        fileloc = os.path.join(directory, filename)\n",
    "        \n",
    "        #open the next file\n",
    "        with open(fileloc) as f:\n",
    "            df_new = pd.read_csv(fileloc)\n",
    "            df_new.drop(['start_station_id','end_station_id'], axis=1, inplace=True)\n",
    "            print(filename + \" has \" + str(df_new.shape[0]) + \" rows.\")\n",
    "            df_all = pd.concat([df_all, df_new])\n",
    "            \n",
    "        # Check for difference in columns\n",
    "        columndiff = df_all.columns.symmetric_difference(df_new.columns)\n",
    "        if (not columndiff.empty):\n",
    "            print(\"\", \"Different Column Names for:\", filename, columndiff, \"\", sep=\"\\n\")\n",
    "        else:\n",
    "            print(\"Column Headers Match!\")\n",
    "            \n",
    "        # Check for difference in dtypes:\n",
    "        if df_all.dtypes.to_list() == df_new.dtypes.to_list():\n",
    "            print(\"Data Types Match!\")\n",
    "            \n",
    "df_all.reset_index(drop=True, inplace=True) # resets the index of the large dataframe\n",
    "\n",
    "print(\"All files concatenated into one DataFrame with {} rows.\".format(df_all.shape[0]))"
   ]
  },
  {
   "cell_type": "code",
   "execution_count": 9,
   "metadata": {},
   "outputs": [
    {
     "data": {
      "text/html": [
       "<div>\n",
       "<style scoped>\n",
       "    .dataframe tbody tr th:only-of-type {\n",
       "        vertical-align: middle;\n",
       "    }\n",
       "\n",
       "    .dataframe tbody tr th {\n",
       "        vertical-align: top;\n",
       "    }\n",
       "\n",
       "    .dataframe thead th {\n",
       "        text-align: right;\n",
       "    }\n",
       "</style>\n",
       "<table border=\"1\" class=\"dataframe\">\n",
       "  <thead>\n",
       "    <tr style=\"text-align: right;\">\n",
       "      <th></th>\n",
       "      <th>ride_id</th>\n",
       "      <th>rideable_type</th>\n",
       "      <th>started_at</th>\n",
       "      <th>ended_at</th>\n",
       "      <th>start_station_name</th>\n",
       "      <th>end_station_name</th>\n",
       "      <th>start_lat</th>\n",
       "      <th>start_lng</th>\n",
       "      <th>end_lat</th>\n",
       "      <th>end_lng</th>\n",
       "      <th>member_casual</th>\n",
       "    </tr>\n",
       "  </thead>\n",
       "  <tbody>\n",
       "    <tr>\n",
       "      <th>2926244</th>\n",
       "      <td>7FB5068833366CF4</td>\n",
       "      <td>classic_bike</td>\n",
       "      <td>2021-04-06 10:34:35</td>\n",
       "      <td>2021-04-06 11:01:00</td>\n",
       "      <td>Kimbark Ave &amp; 53rd St</td>\n",
       "      <td>University Ave &amp; 57th St</td>\n",
       "      <td>41.80</td>\n",
       "      <td>-87.59</td>\n",
       "      <td>41.79</td>\n",
       "      <td>-87.60</td>\n",
       "      <td>member</td>\n",
       "    </tr>\n",
       "    <tr>\n",
       "      <th>2815954</th>\n",
       "      <td>C7944A952B38C9BD</td>\n",
       "      <td>classic_bike</td>\n",
       "      <td>2021-03-19 00:13:37</td>\n",
       "      <td>2021-03-19 00:16:34</td>\n",
       "      <td>Sheffield Ave &amp; Webster Ave</td>\n",
       "      <td>Racine Ave &amp; Fullerton Ave</td>\n",
       "      <td>41.92</td>\n",
       "      <td>-87.65</td>\n",
       "      <td>41.93</td>\n",
       "      <td>-87.66</td>\n",
       "      <td>member</td>\n",
       "    </tr>\n",
       "    <tr>\n",
       "      <th>2312862</th>\n",
       "      <td>B45AD071FC00EBE9</td>\n",
       "      <td>docked_bike</td>\n",
       "      <td>2020-11-14 15:32:38</td>\n",
       "      <td>2020-11-14 15:52:23</td>\n",
       "      <td>Wood St &amp; Milwaukee Ave</td>\n",
       "      <td>Sheffield Ave &amp; Willow St</td>\n",
       "      <td>41.91</td>\n",
       "      <td>-87.67</td>\n",
       "      <td>41.91</td>\n",
       "      <td>-87.65</td>\n",
       "      <td>member</td>\n",
       "    </tr>\n",
       "    <tr>\n",
       "      <th>1488996</th>\n",
       "      <td>259B283A3167AF62</td>\n",
       "      <td>electric_bike</td>\n",
       "      <td>2020-09-27 16:38:07</td>\n",
       "      <td>2020-09-27 17:09:39</td>\n",
       "      <td>NaN</td>\n",
       "      <td>NaN</td>\n",
       "      <td>41.88</td>\n",
       "      <td>-87.70</td>\n",
       "      <td>41.86</td>\n",
       "      <td>-87.69</td>\n",
       "      <td>member</td>\n",
       "    </tr>\n",
       "    <tr>\n",
       "      <th>71399</th>\n",
       "      <td>D0B2231F880CC496</td>\n",
       "      <td>docked_bike</td>\n",
       "      <td>2020-07-24 19:48:14</td>\n",
       "      <td>2020-07-24 20:17:40</td>\n",
       "      <td>Clark St &amp; Winnemac Ave</td>\n",
       "      <td>Sheridan Rd &amp; Loyola Ave</td>\n",
       "      <td>41.97</td>\n",
       "      <td>-87.67</td>\n",
       "      <td>42.00</td>\n",
       "      <td>-87.66</td>\n",
       "      <td>member</td>\n",
       "    </tr>\n",
       "  </tbody>\n",
       "</table>\n",
       "</div>"
      ],
      "text/plain": [
       "                  ride_id  rideable_type           started_at  \\\n",
       "2926244  7FB5068833366CF4   classic_bike  2021-04-06 10:34:35   \n",
       "2815954  C7944A952B38C9BD   classic_bike  2021-03-19 00:13:37   \n",
       "2312862  B45AD071FC00EBE9    docked_bike  2020-11-14 15:32:38   \n",
       "1488996  259B283A3167AF62  electric_bike  2020-09-27 16:38:07   \n",
       "71399    D0B2231F880CC496    docked_bike  2020-07-24 19:48:14   \n",
       "\n",
       "                    ended_at           start_station_name  \\\n",
       "2926244  2021-04-06 11:01:00        Kimbark Ave & 53rd St   \n",
       "2815954  2021-03-19 00:16:34  Sheffield Ave & Webster Ave   \n",
       "2312862  2020-11-14 15:52:23      Wood St & Milwaukee Ave   \n",
       "1488996  2020-09-27 17:09:39                          NaN   \n",
       "71399    2020-07-24 20:17:40      Clark St & Winnemac Ave   \n",
       "\n",
       "                   end_station_name  start_lat  start_lng  end_lat  end_lng  \\\n",
       "2926244    University Ave & 57th St      41.80     -87.59    41.79   -87.60   \n",
       "2815954  Racine Ave & Fullerton Ave      41.92     -87.65    41.93   -87.66   \n",
       "2312862   Sheffield Ave & Willow St      41.91     -87.67    41.91   -87.65   \n",
       "1488996                         NaN      41.88     -87.70    41.86   -87.69   \n",
       "71399      Sheridan Rd & Loyola Ave      41.97     -87.67    42.00   -87.66   \n",
       "\n",
       "        member_casual  \n",
       "2926244        member  \n",
       "2815954        member  \n",
       "2312862        member  \n",
       "1488996        member  \n",
       "71399          member  "
      ]
     },
     "execution_count": 9,
     "metadata": {},
     "output_type": "execute_result"
    }
   ],
   "source": [
    "# Examine 5 random entries\n",
    "df_all.sample(5)"
   ]
  },
  {
   "cell_type": "code",
   "execution_count": 10,
   "metadata": {},
   "outputs": [
    {
     "name": "stdout",
     "output_type": "stream",
     "text": [
      "<class 'pandas.core.frame.DataFrame'>\n",
      "RangeIndex: 4460151 entries, 0 to 4460150\n",
      "Data columns (total 11 columns):\n",
      " #   Column              Dtype  \n",
      "---  ------              -----  \n",
      " 0   ride_id             object \n",
      " 1   rideable_type       object \n",
      " 2   started_at          object \n",
      " 3   ended_at            object \n",
      " 4   start_station_name  object \n",
      " 5   end_station_name    object \n",
      " 6   start_lat           float64\n",
      " 7   start_lng           float64\n",
      " 8   end_lat             float64\n",
      " 9   end_lng             float64\n",
      " 10  member_casual       object \n",
      "dtypes: float64(4), object(7)\n",
      "memory usage: 374.3+ MB\n"
     ]
    }
   ],
   "source": [
    "# Check info of DataFrame\n",
    "df_all.info()"
   ]
  },
  {
   "cell_type": "markdown",
   "metadata": {},
   "source": [
    "#### Cleaning"
   ]
  },
  {
   "cell_type": "code",
   "execution_count": 11,
   "metadata": {},
   "outputs": [
    {
     "data": {
      "text/plain": [
       "ride_id                    0\n",
       "rideable_type              0\n",
       "started_at                 0\n",
       "ended_at                   0\n",
       "start_station_name    282068\n",
       "end_station_name      315109\n",
       "start_lat                  0\n",
       "start_lng                  0\n",
       "end_lat                 5286\n",
       "end_lng                 5286\n",
       "member_casual              0\n",
       "dtype: int64"
      ]
     },
     "execution_count": 11,
     "metadata": {},
     "output_type": "execute_result"
    }
   ],
   "source": [
    "# Check for missing values\n",
    "df_all.isna().sum()"
   ]
  },
  {
   "cell_type": "markdown",
   "metadata": {},
   "source": [
    "Notice that all the missing values come from columns that deal with location. This can be ignored for now, but will be addressed later. "
   ]
  },
  {
   "cell_type": "code",
   "execution_count": 12,
   "metadata": {},
   "outputs": [
    {
     "data": {
      "text/plain": [
       "4459942"
      ]
     },
     "execution_count": 12,
     "metadata": {},
     "output_type": "execute_result"
    }
   ],
   "source": [
    "# Want to set ride_id column as index\n",
    "## Check that all ride_id are unique\n",
    "df_all.ride_id.nunique()"
   ]
  },
  {
   "cell_type": "markdown",
   "metadata": {},
   "source": [
    "Notice that this number is less than the total number of entries! There must be some duplicate entries"
   ]
  },
  {
   "cell_type": "code",
   "execution_count": 13,
   "metadata": {},
   "outputs": [
    {
     "data": {
      "text/plain": [
       "209"
      ]
     },
     "execution_count": 13,
     "metadata": {},
     "output_type": "execute_result"
    }
   ],
   "source": [
    "# Check for duplicates\n",
    "df_all.ride_id.duplicated().sum()"
   ]
  },
  {
   "cell_type": "code",
   "execution_count": 14,
   "metadata": {},
   "outputs": [
    {
     "data": {
      "text/html": [
       "<div>\n",
       "<style scoped>\n",
       "    .dataframe tbody tr th:only-of-type {\n",
       "        vertical-align: middle;\n",
       "    }\n",
       "\n",
       "    .dataframe tbody tr th {\n",
       "        vertical-align: top;\n",
       "    }\n",
       "\n",
       "    .dataframe thead th {\n",
       "        text-align: right;\n",
       "    }\n",
       "</style>\n",
       "<table border=\"1\" class=\"dataframe\">\n",
       "  <thead>\n",
       "    <tr style=\"text-align: right;\">\n",
       "      <th></th>\n",
       "      <th>ride_id</th>\n",
       "      <th>rideable_type</th>\n",
       "      <th>started_at</th>\n",
       "      <th>ended_at</th>\n",
       "      <th>start_station_name</th>\n",
       "      <th>end_station_name</th>\n",
       "      <th>start_lat</th>\n",
       "      <th>start_lng</th>\n",
       "      <th>end_lat</th>\n",
       "      <th>end_lng</th>\n",
       "      <th>member_casual</th>\n",
       "    </tr>\n",
       "  </thead>\n",
       "  <tbody>\n",
       "    <tr>\n",
       "      <th>2381133</th>\n",
       "      <td>BE1F691E387D7072</td>\n",
       "      <td>docked_bike</td>\n",
       "      <td>2020-12-15 11:34:23</td>\n",
       "      <td>2020-11-25 08:00:15</td>\n",
       "      <td>Kingsbury St &amp; Kinzie St</td>\n",
       "      <td>Canal St &amp; Monroe St</td>\n",
       "      <td>41.89</td>\n",
       "      <td>-87.64</td>\n",
       "      <td>41.88</td>\n",
       "      <td>-87.64</td>\n",
       "      <td>member</td>\n",
       "    </tr>\n",
       "    <tr>\n",
       "      <th>2393756</th>\n",
       "      <td>325F6C4D5B72134A</td>\n",
       "      <td>docked_bike</td>\n",
       "      <td>2020-12-15 11:34:31</td>\n",
       "      <td>2020-11-25 08:20:28</td>\n",
       "      <td>Clarendon Ave &amp; Junior Ter</td>\n",
       "      <td>Broadway &amp; Wilson Ave</td>\n",
       "      <td>41.96</td>\n",
       "      <td>-87.65</td>\n",
       "      <td>41.97</td>\n",
       "      <td>-87.66</td>\n",
       "      <td>member</td>\n",
       "    </tr>\n",
       "    <tr>\n",
       "      <th>2446056</th>\n",
       "      <td>BB4697B59E3FF12A</td>\n",
       "      <td>docked_bike</td>\n",
       "      <td>2020-12-15 11:34:38</td>\n",
       "      <td>2020-11-25 08:09:43</td>\n",
       "      <td>Clark St &amp; 9th St (AMLI)</td>\n",
       "      <td>Dearborn St &amp; Adams St</td>\n",
       "      <td>41.87</td>\n",
       "      <td>-87.63</td>\n",
       "      <td>41.88</td>\n",
       "      <td>-87.63</td>\n",
       "      <td>member</td>\n",
       "    </tr>\n",
       "    <tr>\n",
       "      <th>2425912</th>\n",
       "      <td>A180F0B9240F6660</td>\n",
       "      <td>docked_bike</td>\n",
       "      <td>2020-12-15 11:34:40</td>\n",
       "      <td>2020-11-25 08:38:56</td>\n",
       "      <td>California Ave &amp; Francis Pl (Temp)</td>\n",
       "      <td>Milwaukee Ave &amp; Wabansia Ave</td>\n",
       "      <td>41.92</td>\n",
       "      <td>-87.70</td>\n",
       "      <td>41.91</td>\n",
       "      <td>-87.68</td>\n",
       "      <td>casual</td>\n",
       "    </tr>\n",
       "    <tr>\n",
       "      <th>2475615</th>\n",
       "      <td>5A0D169EFA5A7C4A</td>\n",
       "      <td>docked_bike</td>\n",
       "      <td>2020-12-15 11:34:51</td>\n",
       "      <td>2020-11-25 08:20:50</td>\n",
       "      <td>Kingsbury St &amp; Erie St</td>\n",
       "      <td>Clinton St &amp; Lake St</td>\n",
       "      <td>41.89</td>\n",
       "      <td>-87.64</td>\n",
       "      <td>41.89</td>\n",
       "      <td>-87.64</td>\n",
       "      <td>member</td>\n",
       "    </tr>\n",
       "    <tr>\n",
       "      <th>...</th>\n",
       "      <td>...</td>\n",
       "      <td>...</td>\n",
       "      <td>...</td>\n",
       "      <td>...</td>\n",
       "      <td>...</td>\n",
       "      <td>...</td>\n",
       "      <td>...</td>\n",
       "      <td>...</td>\n",
       "      <td>...</td>\n",
       "      <td>...</td>\n",
       "      <td>...</td>\n",
       "    </tr>\n",
       "    <tr>\n",
       "      <th>2380425</th>\n",
       "      <td>A08B4A7018A2C588</td>\n",
       "      <td>docked_bike</td>\n",
       "      <td>2020-12-15 12:21:18</td>\n",
       "      <td>2020-11-25 16:31:14</td>\n",
       "      <td>Paulina St &amp; Flournoy St</td>\n",
       "      <td>Wells St &amp; Polk St</td>\n",
       "      <td>41.87</td>\n",
       "      <td>-87.67</td>\n",
       "      <td>41.87</td>\n",
       "      <td>-87.63</td>\n",
       "      <td>member</td>\n",
       "    </tr>\n",
       "    <tr>\n",
       "      <th>2483631</th>\n",
       "      <td>332340BB61D42B3C</td>\n",
       "      <td>docked_bike</td>\n",
       "      <td>2020-12-15 12:21:37</td>\n",
       "      <td>2020-11-25 14:49:41</td>\n",
       "      <td>Bissell St &amp; Armitage Ave</td>\n",
       "      <td>Clark St &amp; Drummond Pl</td>\n",
       "      <td>41.92</td>\n",
       "      <td>-87.65</td>\n",
       "      <td>41.93</td>\n",
       "      <td>-87.64</td>\n",
       "      <td>casual</td>\n",
       "    </tr>\n",
       "    <tr>\n",
       "      <th>2404267</th>\n",
       "      <td>3C8888090D42A63F</td>\n",
       "      <td>docked_bike</td>\n",
       "      <td>2020-12-15 12:21:46</td>\n",
       "      <td>2020-11-25 17:38:06</td>\n",
       "      <td>Wood St &amp; Taylor St (Temp)</td>\n",
       "      <td>Laflin St &amp; Cullerton St</td>\n",
       "      <td>41.87</td>\n",
       "      <td>-87.67</td>\n",
       "      <td>41.85</td>\n",
       "      <td>-87.66</td>\n",
       "      <td>member</td>\n",
       "    </tr>\n",
       "    <tr>\n",
       "      <th>2452141</th>\n",
       "      <td>165F7B547D1CFAC0</td>\n",
       "      <td>docked_bike</td>\n",
       "      <td>2020-12-15 12:21:50</td>\n",
       "      <td>2020-11-25 19:24:03</td>\n",
       "      <td>Clark St &amp; Elm St</td>\n",
       "      <td>Fairbanks Ct &amp; Grand Ave</td>\n",
       "      <td>41.90</td>\n",
       "      <td>-87.63</td>\n",
       "      <td>41.89</td>\n",
       "      <td>-87.62</td>\n",
       "      <td>member</td>\n",
       "    </tr>\n",
       "    <tr>\n",
       "      <th>2376346</th>\n",
       "      <td>C763BA9D0F6ED827</td>\n",
       "      <td>docked_bike</td>\n",
       "      <td>2020-12-15 12:21:52</td>\n",
       "      <td>2020-11-25 19:13:39</td>\n",
       "      <td>Broadway &amp; Barry Ave</td>\n",
       "      <td>Clark St &amp; Armitage Ave</td>\n",
       "      <td>41.94</td>\n",
       "      <td>-87.64</td>\n",
       "      <td>41.92</td>\n",
       "      <td>-87.64</td>\n",
       "      <td>member</td>\n",
       "    </tr>\n",
       "  </tbody>\n",
       "</table>\n",
       "<p>209 rows × 11 columns</p>\n",
       "</div>"
      ],
      "text/plain": [
       "                  ride_id rideable_type           started_at  \\\n",
       "2381133  BE1F691E387D7072   docked_bike  2020-12-15 11:34:23   \n",
       "2393756  325F6C4D5B72134A   docked_bike  2020-12-15 11:34:31   \n",
       "2446056  BB4697B59E3FF12A   docked_bike  2020-12-15 11:34:38   \n",
       "2425912  A180F0B9240F6660   docked_bike  2020-12-15 11:34:40   \n",
       "2475615  5A0D169EFA5A7C4A   docked_bike  2020-12-15 11:34:51   \n",
       "...                   ...           ...                  ...   \n",
       "2380425  A08B4A7018A2C588   docked_bike  2020-12-15 12:21:18   \n",
       "2483631  332340BB61D42B3C   docked_bike  2020-12-15 12:21:37   \n",
       "2404267  3C8888090D42A63F   docked_bike  2020-12-15 12:21:46   \n",
       "2452141  165F7B547D1CFAC0   docked_bike  2020-12-15 12:21:50   \n",
       "2376346  C763BA9D0F6ED827   docked_bike  2020-12-15 12:21:52   \n",
       "\n",
       "                    ended_at                  start_station_name  \\\n",
       "2381133  2020-11-25 08:00:15            Kingsbury St & Kinzie St   \n",
       "2393756  2020-11-25 08:20:28          Clarendon Ave & Junior Ter   \n",
       "2446056  2020-11-25 08:09:43            Clark St & 9th St (AMLI)   \n",
       "2425912  2020-11-25 08:38:56  California Ave & Francis Pl (Temp)   \n",
       "2475615  2020-11-25 08:20:50              Kingsbury St & Erie St   \n",
       "...                      ...                                 ...   \n",
       "2380425  2020-11-25 16:31:14            Paulina St & Flournoy St   \n",
       "2483631  2020-11-25 14:49:41           Bissell St & Armitage Ave   \n",
       "2404267  2020-11-25 17:38:06          Wood St & Taylor St (Temp)   \n",
       "2452141  2020-11-25 19:24:03                   Clark St & Elm St   \n",
       "2376346  2020-11-25 19:13:39                Broadway & Barry Ave   \n",
       "\n",
       "                     end_station_name  start_lat  start_lng  end_lat  end_lng  \\\n",
       "2381133          Canal St & Monroe St      41.89     -87.64    41.88   -87.64   \n",
       "2393756         Broadway & Wilson Ave      41.96     -87.65    41.97   -87.66   \n",
       "2446056        Dearborn St & Adams St      41.87     -87.63    41.88   -87.63   \n",
       "2425912  Milwaukee Ave & Wabansia Ave      41.92     -87.70    41.91   -87.68   \n",
       "2475615          Clinton St & Lake St      41.89     -87.64    41.89   -87.64   \n",
       "...                               ...        ...        ...      ...      ...   \n",
       "2380425            Wells St & Polk St      41.87     -87.67    41.87   -87.63   \n",
       "2483631        Clark St & Drummond Pl      41.92     -87.65    41.93   -87.64   \n",
       "2404267      Laflin St & Cullerton St      41.87     -87.67    41.85   -87.66   \n",
       "2452141      Fairbanks Ct & Grand Ave      41.90     -87.63    41.89   -87.62   \n",
       "2376346       Clark St & Armitage Ave      41.94     -87.64    41.92   -87.64   \n",
       "\n",
       "        member_casual  \n",
       "2381133        member  \n",
       "2393756        member  \n",
       "2446056        member  \n",
       "2425912        casual  \n",
       "2475615        member  \n",
       "...               ...  \n",
       "2380425        member  \n",
       "2483631        casual  \n",
       "2404267        member  \n",
       "2452141        member  \n",
       "2376346        member  \n",
       "\n",
       "[209 rows x 11 columns]"
      ]
     },
     "execution_count": 14,
     "metadata": {},
     "output_type": "execute_result"
    }
   ],
   "source": [
    "# Check some of these duplicate entries\n",
    "df_all.loc[df_all[['ride_id']].duplicated()].sort_values('started_at') # sort by the start date"
   ]
  },
  {
   "cell_type": "markdown",
   "metadata": {},
   "source": [
    "Notice how all the duplicate entries start on December 15, 2020. They also end on November 25, 2020. Something must be wrong with the file they came from, as this difference in time isn't even possible. Before removing these duplicate files, let's quickly look at single duplicated `ride_id` values:"
   ]
  },
  {
   "cell_type": "code",
   "execution_count": 15,
   "metadata": {},
   "outputs": [
    {
     "data": {
      "text/html": [
       "<div>\n",
       "<style scoped>\n",
       "    .dataframe tbody tr th:only-of-type {\n",
       "        vertical-align: middle;\n",
       "    }\n",
       "\n",
       "    .dataframe tbody tr th {\n",
       "        vertical-align: top;\n",
       "    }\n",
       "\n",
       "    .dataframe thead th {\n",
       "        text-align: right;\n",
       "    }\n",
       "</style>\n",
       "<table border=\"1\" class=\"dataframe\">\n",
       "  <thead>\n",
       "    <tr style=\"text-align: right;\">\n",
       "      <th></th>\n",
       "      <th>ride_id</th>\n",
       "      <th>rideable_type</th>\n",
       "      <th>started_at</th>\n",
       "      <th>ended_at</th>\n",
       "      <th>start_station_name</th>\n",
       "      <th>end_station_name</th>\n",
       "      <th>start_lat</th>\n",
       "      <th>start_lng</th>\n",
       "      <th>end_lat</th>\n",
       "      <th>end_lng</th>\n",
       "      <th>member_casual</th>\n",
       "    </tr>\n",
       "  </thead>\n",
       "  <tbody>\n",
       "    <tr>\n",
       "      <th>2187816</th>\n",
       "      <td>BE1F691E387D7072</td>\n",
       "      <td>docked_bike</td>\n",
       "      <td>2020-11-25 07:54:50</td>\n",
       "      <td>2020-11-25 08:00:15</td>\n",
       "      <td>Kingsbury St &amp; Kinzie St</td>\n",
       "      <td>Canal St &amp; Monroe St</td>\n",
       "      <td>41.89</td>\n",
       "      <td>-87.64</td>\n",
       "      <td>41.88</td>\n",
       "      <td>-87.64</td>\n",
       "      <td>member</td>\n",
       "    </tr>\n",
       "    <tr>\n",
       "      <th>2381133</th>\n",
       "      <td>BE1F691E387D7072</td>\n",
       "      <td>docked_bike</td>\n",
       "      <td>2020-12-15 11:34:23</td>\n",
       "      <td>2020-11-25 08:00:15</td>\n",
       "      <td>Kingsbury St &amp; Kinzie St</td>\n",
       "      <td>Canal St &amp; Monroe St</td>\n",
       "      <td>41.89</td>\n",
       "      <td>-87.64</td>\n",
       "      <td>41.88</td>\n",
       "      <td>-87.64</td>\n",
       "      <td>member</td>\n",
       "    </tr>\n",
       "  </tbody>\n",
       "</table>\n",
       "</div>"
      ],
      "text/plain": [
       "                  ride_id rideable_type           started_at  \\\n",
       "2187816  BE1F691E387D7072   docked_bike  2020-11-25 07:54:50   \n",
       "2381133  BE1F691E387D7072   docked_bike  2020-12-15 11:34:23   \n",
       "\n",
       "                    ended_at        start_station_name      end_station_name  \\\n",
       "2187816  2020-11-25 08:00:15  Kingsbury St & Kinzie St  Canal St & Monroe St   \n",
       "2381133  2020-11-25 08:00:15  Kingsbury St & Kinzie St  Canal St & Monroe St   \n",
       "\n",
       "         start_lat  start_lng  end_lat  end_lng member_casual  \n",
       "2187816      41.89     -87.64    41.88   -87.64        member  \n",
       "2381133      41.89     -87.64    41.88   -87.64        member  "
      ]
     },
     "execution_count": 15,
     "metadata": {},
     "output_type": "execute_result"
    }
   ],
   "source": [
    "# Look at first duplicated ride ID\n",
    "df_all.loc[df_all.ride_id == 'BE1F691E387D7072']"
   ]
  },
  {
   "cell_type": "code",
   "execution_count": 21,
   "metadata": {},
   "outputs": [
    {
     "data": {
      "text/html": [
       "<div>\n",
       "<style scoped>\n",
       "    .dataframe tbody tr th:only-of-type {\n",
       "        vertical-align: middle;\n",
       "    }\n",
       "\n",
       "    .dataframe tbody tr th {\n",
       "        vertical-align: top;\n",
       "    }\n",
       "\n",
       "    .dataframe thead th {\n",
       "        text-align: right;\n",
       "    }\n",
       "</style>\n",
       "<table border=\"1\" class=\"dataframe\">\n",
       "  <thead>\n",
       "    <tr style=\"text-align: right;\">\n",
       "      <th></th>\n",
       "      <th>ride_id</th>\n",
       "      <th>rideable_type</th>\n",
       "      <th>started_at</th>\n",
       "      <th>ended_at</th>\n",
       "      <th>start_station_name</th>\n",
       "      <th>end_station_name</th>\n",
       "      <th>start_lat</th>\n",
       "      <th>start_lng</th>\n",
       "      <th>end_lat</th>\n",
       "      <th>end_lng</th>\n",
       "      <th>member_casual</th>\n",
       "    </tr>\n",
       "  </thead>\n",
       "  <tbody>\n",
       "    <tr>\n",
       "      <th>2354327</th>\n",
       "      <td>C763BA9D0F6ED827</td>\n",
       "      <td>docked_bike</td>\n",
       "      <td>2020-11-25 18:53:00</td>\n",
       "      <td>2020-11-25 19:13:39</td>\n",
       "      <td>Broadway &amp; Barry Ave</td>\n",
       "      <td>Clark St &amp; Armitage Ave</td>\n",
       "      <td>41.94</td>\n",
       "      <td>-87.64</td>\n",
       "      <td>41.92</td>\n",
       "      <td>-87.64</td>\n",
       "      <td>member</td>\n",
       "    </tr>\n",
       "    <tr>\n",
       "      <th>2376346</th>\n",
       "      <td>C763BA9D0F6ED827</td>\n",
       "      <td>docked_bike</td>\n",
       "      <td>2020-12-15 12:21:52</td>\n",
       "      <td>2020-11-25 19:13:39</td>\n",
       "      <td>Broadway &amp; Barry Ave</td>\n",
       "      <td>Clark St &amp; Armitage Ave</td>\n",
       "      <td>41.94</td>\n",
       "      <td>-87.64</td>\n",
       "      <td>41.92</td>\n",
       "      <td>-87.64</td>\n",
       "      <td>member</td>\n",
       "    </tr>\n",
       "  </tbody>\n",
       "</table>\n",
       "</div>"
      ],
      "text/plain": [
       "                  ride_id rideable_type           started_at  \\\n",
       "2354327  C763BA9D0F6ED827   docked_bike  2020-11-25 18:53:00   \n",
       "2376346  C763BA9D0F6ED827   docked_bike  2020-12-15 12:21:52   \n",
       "\n",
       "                    ended_at    start_station_name         end_station_name  \\\n",
       "2354327  2020-11-25 19:13:39  Broadway & Barry Ave  Clark St & Armitage Ave   \n",
       "2376346  2020-11-25 19:13:39  Broadway & Barry Ave  Clark St & Armitage Ave   \n",
       "\n",
       "         start_lat  start_lng  end_lat  end_lng member_casual  \n",
       "2354327      41.94     -87.64    41.92   -87.64        member  \n",
       "2376346      41.94     -87.64    41.92   -87.64        member  "
      ]
     },
     "execution_count": 21,
     "metadata": {},
     "output_type": "execute_result"
    }
   ],
   "source": [
    "# Look at last duplicated ride ID\n",
    "df_all.loc[df_all.ride_id == 'C763BA9D0F6ED827']"
   ]
  },
  {
   "cell_type": "markdown",
   "metadata": {},
   "source": [
    "Just as expected, the entries are exact duplicates, aside from the `started_at` values. It is then safe to drop the second entry of each duplicate from the entire DataFrame."
   ]
  },
  {
   "cell_type": "code",
   "execution_count": 23,
   "metadata": {},
   "outputs": [],
   "source": [
    "# Drop duplicates\n",
    "df_all.drop_duplicates(subset='ride_id', keep='first', inplace=True)"
   ]
  },
  {
   "cell_type": "code",
   "execution_count": 24,
   "metadata": {},
   "outputs": [
    {
     "data": {
      "text/plain": [
       "0"
      ]
     },
     "execution_count": 24,
     "metadata": {},
     "output_type": "execute_result"
    }
   ],
   "source": [
    "# Check that Successfully dropped duplicates\n",
    "df_all.ride_id.duplicated().sum()"
   ]
  },
  {
   "cell_type": "code",
   "execution_count": 26,
   "metadata": {},
   "outputs": [],
   "source": [
    "# Now we can set ride id as the index\n",
    "df_all.set_index('ride_id', inplace=True)"
   ]
  },
  {
   "cell_type": "markdown",
   "metadata": {},
   "source": [
    "Now that duplicates have been dealt with, and the DataFrame has been reindexed, let's look at converting data types to the proper format"
   ]
  },
  {
   "cell_type": "code",
   "execution_count": 28,
   "metadata": {},
   "outputs": [],
   "source": [
    "# Convert started_at and ended_at to datetime format\n",
    "from datetime import datetime\n",
    "\n",
    "df_all['started_at'] = pd.to_datetime(df_all.started_at)\n",
    "df_all['ended_at'] = pd.to_datetime(df_all.ended_at)"
   ]
  },
  {
   "cell_type": "code",
   "execution_count": 29,
   "metadata": {},
   "outputs": [
    {
     "data": {
      "text/plain": [
       "rideable_type                 object\n",
       "started_at            datetime64[ns]\n",
       "ended_at              datetime64[ns]\n",
       "start_station_name            object\n",
       "end_station_name              object\n",
       "start_lat                    float64\n",
       "start_lng                    float64\n",
       "end_lat                      float64\n",
       "end_lng                      float64\n",
       "member_casual                 object\n",
       "dtype: object"
      ]
     },
     "execution_count": 29,
     "metadata": {},
     "output_type": "execute_result"
    }
   ],
   "source": [
    "# Check\n",
    "df_all.dtypes"
   ]
  },
  {
   "cell_type": "code",
   "execution_count": 39,
   "metadata": {},
   "outputs": [
    {
     "data": {
      "text/plain": [
       "count                      4459942\n",
       "mean     0 days 00:25:09.251399233\n",
       "std      0 days 04:58:42.225954644\n",
       "min             -21 days +19:50:02\n",
       "25%                0 days 00:07:31\n",
       "50%                0 days 00:13:38\n",
       "75%                0 days 00:25:08\n",
       "max               38 days 20:24:09\n",
       "Name: duration, dtype: object"
      ]
     },
     "execution_count": 39,
     "metadata": {},
     "output_type": "execute_result"
    }
   ],
   "source": [
    "# Create new column for the duration of the ride\n",
    "df_all['duration'] = df_all['ended_at'] - df_all['started_at']\n",
    "df_all.duration.describe()"
   ]
  },
  {
   "cell_type": "code",
   "execution_count": 40,
   "metadata": {},
   "outputs": [],
   "source": [
    "# Add column for trip duration in minutes (easier for comparison during analysis)\n",
    "df_all['duration_mins'] = df_all.duration.apply(lambda x: x.total_seconds()/60)"
   ]
  },
  {
   "cell_type": "code",
   "execution_count": 42,
   "metadata": {},
   "outputs": [
    {
     "data": {
      "text/plain": [
       "count   4,459,942.00\n",
       "mean           25.15\n",
       "std           298.70\n",
       "min       -29,049.97\n",
       "25%             7.52\n",
       "50%            13.63\n",
       "75%            25.13\n",
       "max        55,944.15\n",
       "Name: duration_mins, dtype: float64"
      ]
     },
     "execution_count": 42,
     "metadata": {},
     "output_type": "execute_result"
    }
   ],
   "source": [
    "df_all.duration_mins.describe()"
   ]
  },
  {
   "cell_type": "code",
   "execution_count": 50,
   "metadata": {},
   "outputs": [],
   "source": [
    "# Now let's remove all entries with negative or zero ride durations\n",
    "df_neg_dur = df_all.loc[df_all.duration_mins <= 0] #dataframe containing entries with negative or zero trip length\n",
    "df_all.drop(df_neg_dur.index, axis=0, inplace=True)"
   ]
  },
  {
   "cell_type": "code",
   "execution_count": 51,
   "metadata": {},
   "outputs": [
    {
     "data": {
      "text/plain": [
       "count   4,449,799.00\n",
       "mean           26.30\n",
       "std           241.57\n",
       "min             0.02\n",
       "25%             7.55\n",
       "50%            13.68\n",
       "75%            25.18\n",
       "max        55,944.15\n",
       "Name: duration_mins, dtype: float64"
      ]
     },
     "execution_count": 51,
     "metadata": {},
     "output_type": "execute_result"
    }
   ],
   "source": [
    "# Check that proper entries were dropped\n",
    "df_all.duration_mins.describe()"
   ]
  },
  {
   "cell_type": "markdown",
   "metadata": {},
   "source": [
    "Great, now we only have entries with a ride length > 0 minutes. Now let's add a column that determines what day of the week the ride begins on. "
   ]
  },
  {
   "cell_type": "code",
   "execution_count": 52,
   "metadata": {},
   "outputs": [],
   "source": [
    "# get weekday\n",
    "df_all['weekday'] = df_all['started_at'].apply(lambda x: x.day_name())"
   ]
  },
  {
   "cell_type": "code",
   "execution_count": 54,
   "metadata": {},
   "outputs": [
    {
     "name": "stdout",
     "output_type": "stream",
     "text": [
      "<class 'pandas.core.frame.DataFrame'>\n",
      "Index: 4449799 entries, 762198876D69004D to 0C01F8BA99E512E5\n",
      "Data columns (total 13 columns):\n",
      " #   Column              Dtype          \n",
      "---  ------              -----          \n",
      " 0   rideable_type       object         \n",
      " 1   started_at          datetime64[ns] \n",
      " 2   ended_at            datetime64[ns] \n",
      " 3   start_station_name  object         \n",
      " 4   end_station_name    object         \n",
      " 5   start_lat           float64        \n",
      " 6   start_lng           float64        \n",
      " 7   end_lat             float64        \n",
      " 8   end_lng             float64        \n",
      " 9   member_casual       object         \n",
      " 10  duration            timedelta64[ns]\n",
      " 11  duration_mins       float64        \n",
      " 12  weekday             object         \n",
      "dtypes: datetime64[ns](2), float64(5), object(5), timedelta64[ns](1)\n",
      "memory usage: 475.3+ MB\n"
     ]
    }
   ],
   "source": [
    "df_all.info()"
   ]
  },
  {
   "cell_type": "markdown",
   "metadata": {},
   "source": [
    "Now that we have added columns of interest, we should change the data type of `member_casual` and `weekday` to categorical. This will help reduce the file size."
   ]
  },
  {
   "cell_type": "code",
   "execution_count": 55,
   "metadata": {},
   "outputs": [],
   "source": [
    "# Convert weekday column to category datatype\n",
    "df_all['weekday'] = df_all['weekday'].astype('category')"
   ]
  },
  {
   "cell_type": "code",
   "execution_count": 56,
   "metadata": {},
   "outputs": [],
   "source": [
    "# Convert member_casual column to category datatype\n",
    "df_all['member_casual'] = df_all['member_casual'].astype('category')"
   ]
  },
  {
   "cell_type": "code",
   "execution_count": 57,
   "metadata": {},
   "outputs": [
    {
     "name": "stdout",
     "output_type": "stream",
     "text": [
      "<class 'pandas.core.frame.DataFrame'>\n",
      "Index: 4449799 entries, 762198876D69004D to 0C01F8BA99E512E5\n",
      "Data columns (total 13 columns):\n",
      " #   Column              Dtype          \n",
      "---  ------              -----          \n",
      " 0   rideable_type       object         \n",
      " 1   started_at          datetime64[ns] \n",
      " 2   ended_at            datetime64[ns] \n",
      " 3   start_station_name  object         \n",
      " 4   end_station_name    object         \n",
      " 5   start_lat           float64        \n",
      " 6   start_lng           float64        \n",
      " 7   end_lat             float64        \n",
      " 8   end_lng             float64        \n",
      " 9   member_casual       category       \n",
      " 10  duration            timedelta64[ns]\n",
      " 11  duration_mins       float64        \n",
      " 12  weekday             category       \n",
      "dtypes: category(2), datetime64[ns](2), float64(5), object(3), timedelta64[ns](1)\n",
      "memory usage: 415.9+ MB\n"
     ]
    }
   ],
   "source": [
    "# Check\n",
    "df_all.info()"
   ]
  },
  {
   "cell_type": "markdown",
   "metadata": {},
   "source": [
    "Now that all of that has been sorted out, let's move on to dealing with missing values!"
   ]
  },
  {
   "cell_type": "code",
   "execution_count": 58,
   "metadata": {},
   "outputs": [
    {
     "data": {
      "text/plain": [
       "rideable_type              0\n",
       "started_at                 0\n",
       "ended_at                   0\n",
       "start_station_name    282014\n",
       "end_station_name      314821\n",
       "start_lat                  0\n",
       "start_lng                  0\n",
       "end_lat                 5234\n",
       "end_lng                 5234\n",
       "member_casual              0\n",
       "duration                   0\n",
       "duration_mins              0\n",
       "weekday                    0\n",
       "dtype: int64"
      ]
     },
     "execution_count": 58,
     "metadata": {},
     "output_type": "execute_result"
    }
   ],
   "source": [
    "# Check for missing values\n",
    "df_all.isna().sum()"
   ]
  },
  {
   "cell_type": "code",
   "execution_count": 61,
   "metadata": {},
   "outputs": [
    {
     "data": {
      "text/plain": [
       "5234"
      ]
     },
     "execution_count": 61,
     "metadata": {},
     "output_type": "execute_result"
    }
   ],
   "source": [
    "# Check how many rows contain 3 or more missing values\n",
    "(df_all.isna().sum(axis=1) >2).sum()"
   ]
  },
  {
   "cell_type": "code",
   "execution_count": 60,
   "metadata": {},
   "outputs": [
    {
     "name": "stdout",
     "output_type": "stream",
     "text": [
      "322200\n",
      "310110\n"
     ]
    }
   ],
   "source": [
    "# Check how many unique values for latitude and longitude\n",
    "print(df_all.start_lat.nunique())\n",
    "print(df_all.start_lng.nunique())"
   ]
  },
  {
   "cell_type": "markdown",
   "metadata": {},
   "source": [
    "This is alot of unique values, meaning that latitude and longitude have been recorded differently for different entries (perhaps more decimal places for some entries). This being said, it would be quite difficult to match latitude and longitude to station names in order to fill these missing values.\n",
    "\n",
    "Instead, we will drop the entries with missing `end_lat` and `end_lng`. This is viable because there are only 5234 insatnces (out of 4449799 entries), and because it appears that all entries missing these values, are also missing the `end_station_name` - so matching to known stations is impossible.\n",
    "\n",
    "We will also fill all missing station names with 'Unknown' (instead of dropping entries) should we want to use this information in later analysis. "
   ]
  },
  {
   "cell_type": "code",
   "execution_count": 62,
   "metadata": {},
   "outputs": [],
   "source": [
    "# Drop entries missing lat/lng\n",
    "df_all.dropna(subset=['end_lat','end_lng'], inplace=True)"
   ]
  },
  {
   "cell_type": "code",
   "execution_count": 64,
   "metadata": {},
   "outputs": [],
   "source": [
    "# Replace missing station names with 'Unknown'\n",
    "df_all.start_station_name.fillna('Unknown', inplace=True)\n",
    "df_all.end_station_name.fillna('Unknown', inplace=True)"
   ]
  },
  {
   "cell_type": "code",
   "execution_count": 65,
   "metadata": {},
   "outputs": [
    {
     "data": {
      "text/plain": [
       "rideable_type         0\n",
       "started_at            0\n",
       "ended_at              0\n",
       "start_station_name    0\n",
       "end_station_name      0\n",
       "start_lat             0\n",
       "start_lng             0\n",
       "end_lat               0\n",
       "end_lng               0\n",
       "member_casual         0\n",
       "duration              0\n",
       "duration_mins         0\n",
       "weekday               0\n",
       "dtype: int64"
      ]
     },
     "execution_count": 65,
     "metadata": {},
     "output_type": "execute_result"
    }
   ],
   "source": [
    "# Check for missing values again\n",
    "df_all.isna().sum()"
   ]
  },
  {
   "cell_type": "code",
   "execution_count": 69,
   "metadata": {},
   "outputs": [
    {
     "data": {
      "text/plain": [
       "Unknown                            282014\n",
       "Streeter Dr & Grand Ave             58006\n",
       "Lake Shore Dr & Monroe St           43652\n",
       "Theater on the Lake                 39468\n",
       "Clark St & Elm St                   38521\n",
       "                                    ...  \n",
       "Avenue L & 114th St                     2\n",
       "N Damen Ave & W Wabansia St             1\n",
       "N Hampden Ct & W Diversey Ave           1\n",
       "S Michigan Ave & E 118th St             1\n",
       "Lyft Driver Center Private Rack         1\n",
       "Name: start_station_name, Length: 713, dtype: int64"
      ]
     },
     "execution_count": 69,
     "metadata": {},
     "output_type": "execute_result"
    }
   ],
   "source": [
    "# Check for value counts to make sure 'Unknown' makes sense\n",
    "df_all.start_station_name.value_counts()"
   ]
  },
  {
   "cell_type": "code",
   "execution_count": 70,
   "metadata": {},
   "outputs": [
    {
     "data": {
      "text/plain": [
       "Unknown                            309587\n",
       "Streeter Dr & Grand Ave             60558\n",
       "Lake Shore Dr & Monroe St           42567\n",
       "Theater on the Lake                 41246\n",
       "Lake Shore Dr & North Blvd          40550\n",
       "                                    ...  \n",
       "Leavitt St & Division St (*)            3\n",
       "hubbard_test_lws                        2\n",
       "S Aberdeen St & W 106th St              2\n",
       "N Hampden Ct & W Diversey Ave           1\n",
       "Lyft Driver Center Private Rack         1\n",
       "Name: end_station_name, Length: 714, dtype: int64"
      ]
     },
     "execution_count": 70,
     "metadata": {},
     "output_type": "execute_result"
    }
   ],
   "source": [
    "df_all.end_station_name.value_counts()"
   ]
  },
  {
   "cell_type": "markdown",
   "metadata": {},
   "source": [
    "The Data is now clean! There is more that could be done in regards to the station names (as we can see above, that some instances only appear once or twice) which do appear quite peculiar. But as that is not essential to our future analysis, we will leave it be for the time being."
   ]
  },
  {
   "cell_type": "markdown",
   "metadata": {},
   "source": [
    "#### Save DataFrame"
   ]
  },
  {
   "cell_type": "code",
   "execution_count": 71,
   "metadata": {},
   "outputs": [],
   "source": [
    "# Save to CSV\n",
    "df_all.to_csv('data/yearly_clean.csv')"
   ]
  },
  {
   "cell_type": "code",
   "execution_count": 72,
   "metadata": {},
   "outputs": [],
   "source": [
    "# Save to Pickle\n",
    "df_all.to_pickle('data/yearly_clean.pkl')"
   ]
  },
  {
   "cell_type": "code",
   "execution_count": null,
   "metadata": {},
   "outputs": [],
   "source": []
  }
 ],
 "metadata": {
  "kernelspec": {
   "display_name": "Python 3",
   "language": "python",
   "name": "python3"
  },
  "language_info": {
   "codemirror_mode": {
    "name": "ipython",
    "version": 3
   },
   "file_extension": ".py",
   "mimetype": "text/x-python",
   "name": "python",
   "nbconvert_exporter": "python",
   "pygments_lexer": "ipython3",
   "version": "3.8.5"
  }
 },
 "nbformat": 4,
 "nbformat_minor": 4
}
